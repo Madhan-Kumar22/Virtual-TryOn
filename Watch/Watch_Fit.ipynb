{
  "nbformat": 4,
  "nbformat_minor": 0,
  "metadata": {
    "colab": {
      "name": "Watch Fit",
      "provenance": []
    },
    "kernelspec": {
      "name": "python3",
      "display_name": "Python 3"
    }
  },
  "cells": [
    {
      "cell_type": "code",
      "metadata": {
        "id": "UH4eJyr6trzm"
      },
      "source": [
        "! pip install -U opencv-python pillow pyyaml tqdm\r\n",
        "import torch\r\n",
        "from PIL import Image\r\n",
        "model = torch.hub.load('ultralytics/yolov5', 'custom', path_or_model='best_bw_400.pt')\r\n",
        "import cv2\r\n",
        "img = cv2.imread('A4.jpg')#Imagename here\r\n",
        "img = cv2.resize(img, (960, 1240),interpolation = cv2.INTER_CUBIC)\r\n",
        "img2=cv2.cvtColor(img,cv2.COLOR_BGR2GRAY)\r\n",
        "\r\n",
        "results = model(img2)  \r\n",
        "\r\n",
        "a=results.xyxy[0]\r\n",
        "\r\n",
        "\r\n",
        "for i in range(0,len(a)):\r\n",
        "  if(a[i][5]==1):\r\n",
        "    middle=a[i][0:5]\r\n",
        "  if(a[i][5]==2):\r\n",
        "    ring=a[i][0:4]\r\n",
        "\r\n",
        "mbottom=middle[0:2]\r\n",
        "mtop=middle[2:4]\r\n",
        "rbottom=ring[0:2]\r\n",
        "rtop=ring[2:4]\r\n",
        "lengthmiddle=abs(mtop[1]-mbottom[1])\r\n",
        "fingerwidth=max(abs(mtop[0]-mbottom[0]),abs(rtop[0]-rbottom[0]))\r\n",
        "\r\n",
        "wrist_width=3.5*fingerwidth\r\n",
        "watch=cv2.imread(\"watch2.png\",-1)\r\n",
        "watch = cv2.rotate(watch, cv2.cv2.ROTATE_90_CLOCKWISE) \r\n",
        "height, width = watch.shape[:2]\r\n",
        "height_new=(wrist_width*height)/width\r\n",
        "watch=cv2.resize(watch,(int(wrist_width),int(height_new)))\r\n",
        "x_off=mid-wrist_width/2\r\n",
        "y_off=rbottom[1]-lengthmiddle-2*fingerwidth//1.5\r\n",
        "x_off=int(x_off)\r\n",
        "y_off=int(y_off-height_new)\r\n",
        "for i in range(0,int(height_new)):\r\n",
        "    for j in range(0,int(wrist_width)):\r\n",
        "        if(watch[i,j][3]!=0):\r\n",
        "          img[y_off+i,x_off+j]=watch[i,j][0:3]\r\n",
        "img = cv2.rotate(img, cv2.ROTATE_90_COUNTERCLOCKWISE)\r\n",
        "cv2.imwrite(\"Plot.jpeg\",img)"
      ],
      "execution_count": null,
      "outputs": []
    }
  ]
}