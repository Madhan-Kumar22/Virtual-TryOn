{
 "cells": [
  {
   "cell_type": "code",
   "execution_count": 1,
   "metadata": {},
   "outputs": [
    {
     "name": "stderr",
     "output_type": "stream",
     "text": [
      "C:\\Users\\Aakash Chandra\\anaconda3\\lib\\site-packages\\numpy\\_distributor_init.py:30: UserWarning: loaded more than 1 DLL from .libs:\n",
      "C:\\Users\\Aakash Chandra\\anaconda3\\lib\\site-packages\\numpy\\.libs\\libopenblas.PYQHXLVVQ7VESDPUVUADXEVJOBGHJPAY.gfortran-win_amd64.dll\n",
      "C:\\Users\\Aakash Chandra\\anaconda3\\lib\\site-packages\\numpy\\.libs\\libopenblas.QVLO2T66WEPI7JZ63PS3HMOHFEY472BC.gfortran-win_amd64.dll\n",
      "  warnings.warn(\"loaded more than 1 DLL from .libs:\\n%s\" %\n"
     ]
    }
   ],
   "source": [
    "from mtcnn import MTCNN\n",
    "import cv2"
   ]
  },
  {
   "cell_type": "code",
   "execution_count": 2,
   "metadata": {},
   "outputs": [],
   "source": [
    "def funci(img):\n",
    "    img = cv2.cvtColor(img, cv2.COLOR_BGR2RGB)  \n",
    "\n",
    "    detector = MTCNN()\n",
    "    count =0\n",
    "    result = detector.detect_faces(img)\n",
    "    img= cv2.cvtColor(img, cv2.COLOR_RGB2BGR)\n",
    "    for i in range(len(result)):\n",
    "\n",
    "        bounding_box = result[i]['box']\n",
    "        if(result[i]['confidence']>0.9724391102790833):\n",
    "            #cv2.rectangle(img,\n",
    "              #(bounding_box[0], bounding_box[1]),\n",
    "              #(bounding_box[0]+bounding_box[2], bounding_box[1] + bounding_box[3]),\n",
    "              #(0,255,0),\n",
    "              #2)\n",
    "            #cv2.circle(img,result[i]['keypoints']['left_eye'],radius=5,color=(0,255,0),thickness=-1)\n",
    "            #cv2.circle(img,result[i]['keypoints']['right_eye'],radius=5,color=(0,255,0),thickness=-1)\n",
    "            x=(result[i]['keypoints']['left_eye'][0]+result[i]['keypoints']['right_eye'][0])//2\n",
    "            y=(result[i]['keypoints']['left_eye'][1]+result[i]['keypoints']['right_eye'][1])//2\n",
    "            distanceleft=x-result[i]['keypoints']['left_eye'][0]\n",
    "            #cv2.circle(img,(result[i]['keypoints']['left_eye'][0]-distanceleft,result[i]['keypoints']['left_eye'][1]-distanceleft//3),radius=5,color=(0,255,0),thickness=-1)\n",
    "            distanceright=result[i]['keypoints']['right_eye'][0]-x\n",
    "            #cv2.circle(img,(result[i]['keypoints']['right_eye'][0]+distanceright,result[i]['keypoints']['right_eye'][1]-distanceright//3),radius=5,color=(0,255,0),thickness=-1)\n",
    "\n",
    "            print(\"{},{}\".format(i,result[i]['confidence']))\n",
    "\n",
    "            glasses=cv2.imread(\"vincent-chase-full-rim-round-vc-e12423-c1-eyeglasses_G_6780.png\",-1)\n",
    "\n",
    "            x_off = result[i]['keypoints']['left_eye'][0]-distanceleft\n",
    "            y_off = result[i]['keypoints']['left_eye'][1]-distanceleft//2\n",
    "            x_end = result[i]['keypoints']['right_eye'][0]+distanceright\n",
    "            y_end = result[i]['keypoints']['right_eye'][1]-distanceright//2\n",
    "            wid=int(((x_off-x_end)**2+(y_off-y_end)**2)**0.5)\n",
    "            glasses2=cv2.resize(glasses.copy(),(wid,wid//3),interpolation=cv2.INTER_LINEAR_EXACT)\n",
    "            gw,gh,gc=glasses2.shape\n",
    "            print(\"Image Shape\",img.shape)\n",
    "            print(\"Specs shape\",glasses2.shape)\n",
    "\n",
    "            for i in range(0,gw):\n",
    "                for j in range(0,gh):\n",
    "                    if(glasses2[i,j][3]!=0):\n",
    "                        img[y_off+i,x_off+j]=glasses2[i,j][0:3]\n",
    "            \n",
    "            #cv2.rectangle(img, (x_off,y_off),(x_end,y_end+wid//3),(0,0,255), thickness=1) \n",
    "\n",
    "\n",
    "\n",
    "    cv2.imwrite(\"Image3.jpeg\",img)\n",
    "    #cv2.imshow(\"Image\",img)\n",
    "    #cv2.waitKey(0)\n",
    "    #cv2.destroyAllWindows()\n",
    "\n"
   ]
  },
  {
   "cell_type": "code",
   "execution_count": 7,
   "metadata": {},
   "outputs": [
    {
     "name": "stdout",
     "output_type": "stream",
     "text": [
      "WARNING:tensorflow:5 out of the last 19 calls to <function Model.make_predict_function.<locals>.predict_function at 0x0000022F4E506B80> triggered tf.function retracing. Tracing is expensive and the excessive number of tracings could be due to (1) creating @tf.function repeatedly in a loop, (2) passing tensors with different shapes, (3) passing Python objects instead of tensors. For (1), please define your @tf.function outside of the loop. For (2), @tf.function has experimental_relax_shapes=True option that relaxes argument shapes that can avoid unnecessary retracing. For (3), please refer to https://www.tensorflow.org/tutorials/customization/performance#python_or_tensor_args and https://www.tensorflow.org/api_docs/python/tf/function for  more details.\n",
      "WARNING:tensorflow:6 out of the last 20 calls to <function Model.make_predict_function.<locals>.predict_function at 0x0000022F4E506B80> triggered tf.function retracing. Tracing is expensive and the excessive number of tracings could be due to (1) creating @tf.function repeatedly in a loop, (2) passing tensors with different shapes, (3) passing Python objects instead of tensors. For (1), please define your @tf.function outside of the loop. For (2), @tf.function has experimental_relax_shapes=True option that relaxes argument shapes that can avoid unnecessary retracing. For (3), please refer to https://www.tensorflow.org/tutorials/customization/performance#python_or_tensor_args and https://www.tensorflow.org/api_docs/python/tf/function for  more details.\n",
      "0,1.0\n",
      "Image Shape (565, 1500, 3)\n",
      "Specs shape (30, 90, 4)\n",
      "1,0.9999997615814209\n",
      "Image Shape (565, 1500, 3)\n",
      "Specs shape (27, 82, 4)\n",
      "2,0.9999995231628418\n",
      "Image Shape (565, 1500, 3)\n",
      "Specs shape (24, 72, 4)\n",
      "3,0.9999774694442749\n",
      "Image Shape (565, 1500, 3)\n",
      "Specs shape (26, 78, 4)\n",
      "4,0.999968409538269\n",
      "Image Shape (565, 1500, 3)\n",
      "Specs shape (26, 78, 4)\n",
      "5,0.9999263286590576\n",
      "Image Shape (565, 1500, 3)\n",
      "Specs shape (30, 90, 4)\n",
      "6,0.9997865557670593\n",
      "Image Shape (565, 1500, 3)\n",
      "Specs shape (24, 74, 4)\n"
     ]
    }
   ],
   "source": [
    "img=cv2.imread(\"09F-SpeciesSpectacles_banner.jpg\")\n",
    "funci(img)"
   ]
  },
  {
   "cell_type": "code",
   "execution_count": null,
   "metadata": {},
   "outputs": [],
   "source": []
  },
  {
   "cell_type": "code",
   "execution_count": 148,
   "metadata": {},
   "outputs": [],
   "source": []
  },
  {
   "cell_type": "code",
   "execution_count": null,
   "metadata": {},
   "outputs": [],
   "source": []
  },
  {
   "cell_type": "code",
   "execution_count": null,
   "metadata": {},
   "outputs": [],
   "source": []
  },
  {
   "cell_type": "code",
   "execution_count": 151,
   "metadata": {},
   "outputs": [],
   "source": []
  },
  {
   "cell_type": "code",
   "execution_count": 152,
   "metadata": {},
   "outputs": [],
   "source": []
  },
  {
   "cell_type": "code",
   "execution_count": null,
   "metadata": {},
   "outputs": [],
   "source": []
  },
  {
   "cell_type": "code",
   "execution_count": null,
   "metadata": {},
   "outputs": [],
   "source": []
  }
 ],
 "metadata": {
  "kernelspec": {
   "display_name": "Python 3",
   "language": "python",
   "name": "python3"
  },
  "language_info": {
   "codemirror_mode": {
    "name": "ipython",
    "version": 3
   },
   "file_extension": ".py",
   "mimetype": "text/x-python",
   "name": "python",
   "nbconvert_exporter": "python",
   "pygments_lexer": "ipython3",
   "version": "3.8.5"
  }
 },
 "nbformat": 4,
 "nbformat_minor": 4
}
