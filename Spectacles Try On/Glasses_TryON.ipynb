{
  "nbformat": 4,
  "nbformat_minor": 0,
  "metadata": {
    "kernelspec": {
      "display_name": "Python 3",
      "language": "python",
      "name": "python3"
    },
    "language_info": {
      "codemirror_mode": {
        "name": "ipython",
        "version": 3
      },
      "file_extension": ".py",
      "mimetype": "text/x-python",
      "name": "python",
      "nbconvert_exporter": "python",
      "pygments_lexer": "ipython3",
      "version": "3.8.5"
    },
    "colab": {
      "name": "Glasses TryON.ipynb",
      "provenance": []
    }
  },
  "cells": [
    {
      "cell_type": "code",
      "metadata": {
        "colab": {
          "base_uri": "https://localhost:8080/"
        },
        "id": "tHuojUIJz1NT",
        "outputId": "e8e0fbfa-00f9-4e5c-8bec-95df72c3a00e"
      },
      "source": [
        "!pip install mtcnn\n",
        "from mtcnn import MTCNN\n",
        "import cv2"
      ],
      "execution_count": 2,
      "outputs": [
        {
          "output_type": "stream",
          "text": [
            "Collecting mtcnn\n",
            "\u001b[?25l  Downloading https://files.pythonhosted.org/packages/67/43/abee91792797c609c1bf30f1112117f7a87a713ebaa6ec5201d5555a73ef/mtcnn-0.1.0-py3-none-any.whl (2.3MB)\n",
            "\u001b[K     |████████████████████████████████| 2.3MB 4.3MB/s \n",
            "\u001b[?25hRequirement already satisfied: opencv-python>=4.1.0 in /usr/local/lib/python3.7/dist-packages (from mtcnn) (4.1.2.30)\n",
            "Requirement already satisfied: keras>=2.0.0 in /usr/local/lib/python3.7/dist-packages (from mtcnn) (2.4.3)\n",
            "Requirement already satisfied: numpy>=1.14.5 in /usr/local/lib/python3.7/dist-packages (from opencv-python>=4.1.0->mtcnn) (1.19.5)\n",
            "Requirement already satisfied: pyyaml in /usr/local/lib/python3.7/dist-packages (from keras>=2.0.0->mtcnn) (3.13)\n",
            "Requirement already satisfied: scipy>=0.14 in /usr/local/lib/python3.7/dist-packages (from keras>=2.0.0->mtcnn) (1.4.1)\n",
            "Requirement already satisfied: h5py in /usr/local/lib/python3.7/dist-packages (from keras>=2.0.0->mtcnn) (2.10.0)\n",
            "Requirement already satisfied: six in /usr/local/lib/python3.7/dist-packages (from h5py->keras>=2.0.0->mtcnn) (1.15.0)\n",
            "Installing collected packages: mtcnn\n",
            "Successfully installed mtcnn-0.1.0\n"
          ],
          "name": "stdout"
        }
      ]
    },
    {
      "cell_type": "code",
      "metadata": {
        "id": "dvoo967Lz1Ni"
      },
      "source": [
        "def funci(img):\n",
        "    img = cv2.cvtColor(img, cv2.COLOR_BGR2RGB)  \n",
        "\n",
        "    detector = MTCNN()\n",
        "    count =0\n",
        "    result = detector.detect_faces(img)\n",
        "    img= cv2.cvtColor(img, cv2.COLOR_RGB2BGR)\n",
        "    for i in range(len(result)):\n",
        "\n",
        "        bounding_box = result[i]['box']\n",
        "        if(result[i]['confidence']>0.9724391102790833):\n",
        "            #cv2.rectangle(img,\n",
        "              #(bounding_box[0], bounding_box[1]),\n",
        "              #(bounding_box[0]+bounding_box[2], bounding_box[1] + bounding_box[3]),\n",
        "              #(0,255,0),\n",
        "              #2)\n",
        "            #cv2.circle(img,result[i]['keypoints']['left_eye'],radius=5,color=(0,255,0),thickness=-1)\n",
        "            #cv2.circle(img,result[i]['keypoints']['right_eye'],radius=5,color=(0,255,0),thickness=-1)\n",
        "            x=(result[i]['keypoints']['left_eye'][0]+result[i]['keypoints']['right_eye'][0])//2\n",
        "            y=(result[i]['keypoints']['left_eye'][1]+result[i]['keypoints']['right_eye'][1])//2\n",
        "            distanceleft=x-result[i]['keypoints']['left_eye'][0]\n",
        "            #cv2.circle(img,(result[i]['keypoints']['left_eye'][0]-distanceleft,result[i]['keypoints']['left_eye'][1]-distanceleft//3),radius=5,color=(0,255,0),thickness=-1)\n",
        "            distanceright=result[i]['keypoints']['right_eye'][0]-x\n",
        "            #cv2.circle(img,(result[i]['keypoints']['right_eye'][0]+distanceright,result[i]['keypoints']['right_eye'][1]-distanceright//3),radius=5,color=(0,255,0),thickness=-1)\n",
        "\n",
        "            print(\"{},{}\".format(i,result[i]['confidence']))\n",
        "\n",
        "            glasses=cv2.imread(\"glasses.png\",-1)\n",
        "\n",
        "            x_off = result[i]['keypoints']['left_eye'][0]-distanceleft\n",
        "            y_off = result[i]['keypoints']['left_eye'][1]-distanceleft//2\n",
        "            x_end = result[i]['keypoints']['right_eye'][0]+distanceright\n",
        "            y_end = result[i]['keypoints']['right_eye'][1]-distanceright//2\n",
        "            wid=int(((x_off-x_end)**2+(y_off-y_end)**2)**0.5)\n",
        "            glasses2=cv2.resize(glasses.copy(),(wid,wid//3),interpolation=cv2.INTER_LINEAR_EXACT)\n",
        "            gw,gh,gc=glasses2.shape\n",
        "            print(\"Image Shape\",img.shape)\n",
        "            print(\"Specs shape\",glasses2.shape)\n",
        "\n",
        "            for i in range(0,gw):\n",
        "                for j in range(0,gh):\n",
        "                    if(glasses2[i,j][3]!=0):\n",
        "                        img[y_off+i,x_off+j]=glasses2[i,j][0:3]\n",
        "            \n",
        "            #cv2.rectangle(img, (x_off,y_off),(x_end,y_end+wid//3),(0,0,255), thickness=1) \n",
        "\n",
        "\n",
        "\n",
        "    cv2.imwrite(\"Result.jpeg\",img)\n",
        "    #cv2.imshow(\"Image\",img)\n",
        "    #cv2.waitKey(0)\n",
        "    #cv2.destroyAllWindows()\n",
        "\n"
      ],
      "execution_count": 3,
      "outputs": []
    },
    {
      "cell_type": "code",
      "metadata": {
        "colab": {
          "base_uri": "https://localhost:8080/"
        },
        "id": "uknuzKy4z1Nl",
        "outputId": "7d57a4f0-521e-4858-ba8c-f96af38f1a8e"
      },
      "source": [
        "img=cv2.imread(\"IMG_20190715_120407-01.jpeg\")\n",
        "funci(img)"
      ],
      "execution_count": 4,
      "outputs": [
        {
          "output_type": "stream",
          "text": [
            "0,0.9999433755874634\n",
            "Image Shape (2025, 1868, 3)\n",
            "Specs shape (218, 654, 4)\n"
          ],
          "name": "stdout"
        }
      ]
    },
    {
      "cell_type": "code",
      "metadata": {
        "id": "Y2AIKG5Sz1Nn"
      },
      "source": [
        ""
      ],
      "execution_count": null,
      "outputs": []
    },
    {
      "cell_type": "code",
      "metadata": {
        "id": "1_8_Utncz1Np"
      },
      "source": [
        ""
      ],
      "execution_count": null,
      "outputs": []
    },
    {
      "cell_type": "code",
      "metadata": {
        "id": "plZGGySBz1Nq"
      },
      "source": [
        ""
      ],
      "execution_count": null,
      "outputs": []
    },
    {
      "cell_type": "code",
      "metadata": {
        "id": "BjulycBBz1Ns"
      },
      "source": [
        ""
      ],
      "execution_count": null,
      "outputs": []
    },
    {
      "cell_type": "code",
      "metadata": {
        "id": "a67yuH41z1Nt"
      },
      "source": [
        ""
      ],
      "execution_count": null,
      "outputs": []
    },
    {
      "cell_type": "code",
      "metadata": {
        "id": "PWj9Cl5Pz1Nu"
      },
      "source": [
        ""
      ],
      "execution_count": null,
      "outputs": []
    },
    {
      "cell_type": "code",
      "metadata": {
        "id": "-12YLFeoz1Nu"
      },
      "source": [
        ""
      ],
      "execution_count": null,
      "outputs": []
    },
    {
      "cell_type": "code",
      "metadata": {
        "id": "nqum6yCUz1Nw"
      },
      "source": [
        ""
      ],
      "execution_count": null,
      "outputs": []
    }
  ]
}