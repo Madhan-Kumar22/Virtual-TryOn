{
  "nbformat": 4,
  "nbformat_minor": 0,
  "metadata": {
    "colab": {
      "name": "Watch_Fitting.ipynb",
      "provenance": []
    },
    "kernelspec": {
      "name": "python3",
      "display_name": "Python 3"
    },
    "language_info": {
      "name": "python"
    }
  },
  "cells": [
    {
      "cell_type": "code",
      "metadata": {
        "id": "WRyLgBdVVhc5"
      },
      "source": [
        "! pip install -U opencv-python pillow pyyaml tqdm\n",
        "import torch\n",
        "from PIL import Image\n",
        "model = torch.hub.load('ultralytics/yolov5', 'custom', path_or_model='best_bw_400.pt')\n",
        "import cv2\n",
        "img = cv2.imread('Test4.jpeg')#Imagename here\n",
        "img = cv2.resize(img, (960, 1240),interpolation = cv2.INTER_CUBIC)\n",
        "img2=cv2.cvtColor(img,cv2.COLOR_BGR2GRAY)\n",
        "\n",
        "results = model(img2)  \n",
        "\n",
        "a=results.xyxy[0]\n",
        "\n",
        "\n",
        "for i in range(0,len(a)):\n",
        "  if(a[i][5]==1):\n",
        "    middle=a[i][0:5]\n",
        "  if(a[i][5]==2):\n",
        "    ring=a[i][0:4]\n",
        "\n",
        "mbottom=middle[0:2]\n",
        "mtop=middle[2:4]\n",
        "rbottom=ring[0:2]\n",
        "rtop=ring[2:4]\n",
        "lengthmiddle=abs(mtop[1]-mbottom[1])\n",
        "fingerwidth=max(abs(mtop[0]-mbottom[0]),abs(rtop[0]-rbottom[0]))\n",
        "wrist_width=3.5*fingerwidth\n",
        "watch=cv2.imread(\"watch2.png\",-1)\n",
        "watch = cv2.rotate(watch, cv2.cv2.ROTATE_90_CLOCKWISE) \n",
        "height, width = watch.shape[:2]\n",
        "height_new=(wrist_width*height)/width\n",
        "watch=cv2.resize(watch,(int(wrist_width),int(height_new)))\n",
        "mid=(mtop[0]+mbottom[0])/2\n",
        "x_off=mid-(wrist_width/2)\n",
        "y_off=rbottom[1]-lengthmiddle-2*fingerwidth//1.5\n",
        "x_off=int(x_off)\n",
        "y_off=int(y_off-height_new)\n",
        "for i in range(0,int(height_new)):\n",
        "    for j in range(0,int(wrist_width)):\n",
        "        if(watch[i,j][3]!=0):\n",
        "          img[y_off+i,x_off+j]=watch[i,j][0:3]\n",
        "\n",
        "\n",
        "img = cv2.rotate(img, cv2.ROTATE_90_COUNTERCLOCKWISE)\n",
        "cv2.imwrite(\"Plot.jpeg\",img)"
      ],
      "execution_count": null,
      "outputs": []
    }
  ]
}