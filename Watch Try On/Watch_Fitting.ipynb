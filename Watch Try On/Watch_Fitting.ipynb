{
 "cells": [
  {
   "cell_type": "code",
   "execution_count": null,
   "metadata": {
    "id": "WRyLgBdVVhc5"
   },
   "outputs": [],
   "source": [
    "#Installing and Importing necessary libraries\n",
    "! pip install -U opencv-python pillow pyyaml tqdm\n",
    "import torch\n",
    "from PIL import Image\n",
    "#Importing the model using the custom weights\n",
    "model = torch.hub.load('ultralytics/yolov5', 'custom', path_or_model='best_bw_400.pt')\n",
    "import cv2\n",
    "#Reading the image and converting it to grayscale\n",
    "img = cv2.imread('Test4.jpeg')#Imagename here\n",
    "img = cv2.resize(img, (960, 1240),interpolation = cv2.INTER_CUBIC)\n",
    "img2=cv2.cvtColor(img,cv2.COLOR_BGR2GRAY)\n",
    "#Passing the image through the custom finger detection model\n",
    "results = model(img2)  \n",
    "\n",
    "a=results.xyxy[0]\n",
    "\n",
    "#Coordinates of middle and ring fingers\n",
    "for i in range(0,len(a)):\n",
    "  if(a[i][5]==1):\n",
    "    middle=a[i][0:5]\n",
    "  if(a[i][5]==2):\n",
    "    ring=a[i][0:4]\n",
    "#Bounding box coordinates of the middle and ring fingers\n",
    "mbottom=middle[0:2]\n",
    "mtop=middle[2:4]\n",
    "rbottom=ring[0:2]\n",
    "rtop=ring[2:4]\n",
    "#Appropriate length and width of the watch \n",
    "lengthmiddle=abs(mtop[1]-mbottom[1])\n",
    "fingerwidth=max(abs(mtop[0]-mbottom[0]),abs(rtop[0]-rbottom[0]))\n",
    "wrist_width=3.5*fingerwidth\n",
    "#Reading the image of watch\n",
    "watch=cv2.imread(\"watch2.png\",-1)\n",
    "watch = cv2.rotate(watch, cv2.cv2.ROTATE_90_CLOCKWISE) \n",
    "height, width = watch.shape[:2]\n",
    "height_new=(wrist_width*height)/width\n",
    "#Resizing the watch to the required width and height\n",
    "watch=cv2.resize(watch,(int(wrist_width),int(height_new)))\n",
    "mid=(mtop[0]+mbottom[0])/2\n",
    "#Coordinates of the bounding box to fit the watch into (x_off,y_off)-Top corner\n",
    "x_off=mid-(wrist_width/2)\n",
    "y_off=rbottom[1]-lengthmiddle-2*fingerwidth//1.5\n",
    "x_off=int(x_off)\n",
    "y_off=int(y_off-height_new)\n",
    "#Super imposing the image of watch into the bounding box\n",
    "for i in range(0,int(height_new)):\n",
    "    for j in range(0,int(wrist_width)):\n",
    "        if(watch[i,j][3]!=0):\n",
    "          img[y_off+i,x_off+j]=watch[i,j][0:3]\n",
    "\n",
    "#Rotating the Image 90 degrees ACW\n",
    "img = cv2.rotate(img, cv2.ROTATE_90_COUNTERCLOCKWISE)\n",
    "#Saving the Image\n",
    "cv2.imwrite(\"Plot.jpeg\",img)"
   ]
  }
 ],
 "metadata": {
  "colab": {
   "name": "Watch_Fitting.ipynb",
   "provenance": []
  },
  "kernelspec": {
   "display_name": "Python 3",
   "language": "python",
   "name": "python3"
  },
  "language_info": {
   "codemirror_mode": {
    "name": "ipython",
    "version": 3
   },
   "file_extension": ".py",
   "mimetype": "text/x-python",
   "name": "python",
   "nbconvert_exporter": "python",
   "pygments_lexer": "ipython3",
   "version": "3.8.5"
  }
 },
 "nbformat": 4,
 "nbformat_minor": 1
}
